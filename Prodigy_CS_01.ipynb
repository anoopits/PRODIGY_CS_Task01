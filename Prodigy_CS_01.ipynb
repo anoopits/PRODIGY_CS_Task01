#Language: Python......
{
 "cells": [
  {
   "cell_type": "code",
   "execution_count": null,
   "id": "115167e7-6c49-465b-9737-57172552b17e",
   "metadata": {},
   "outputs": [],
   "source": [
    "def encrypt(key,message,mode):\n",
    "    result=''\n",
    "    for char in message:\n",
    "        if char.isalpha():\n",
    "            if char.isupper():\n",
    "                start=ord('A')\n",
    "            else:\n",
    "                start=ord('a')\n",
    "            if mode=='encrpytion':\n",
    "                shift_value=key\n",
    "            else:\n",
    "                shift_value=(-key)\n",
    "            new_value=chr((ord(char)-start+shift_value)%26 +start)\n",
    "            result +=new_value\n",
    "        else:\n",
    "            result +=char\n",
    "    return result        \n",
    "message=input(\"Enter the Message: \")\n",
    "key=int(input(\"Key :\"))\n",
    "mode=input(\"What we have to encryption or decryption: \")\n",
    "print(\"Message: \",(encrypt(key,message,mode)))\n"
   ]
  }
 ],
 "metadata": {
  "kernelspec": {
   "display_name": "Python 3 (ipykernel)",
   "language": "python",
   "name": "python3"
  },
  "language_info": {
   "codemirror_mode": {
    "name": "ipython",
    "version": 3
   },
   "file_extension": ".py",
   "mimetype": "text/x-python",
   "name": "python",
   "nbconvert_exporter": "python",
   "pygments_lexer": "ipython3",
   "version": "3.11.9"
  }
 },
 "nbformat": 4,
 "nbformat_minor": 5
}
